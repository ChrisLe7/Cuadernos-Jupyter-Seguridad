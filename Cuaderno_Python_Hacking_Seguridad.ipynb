{
 "cells": [
  {
   "cell_type": "markdown",
   "id": "5a81b659",
   "metadata": {},
   "source": [
    "# Python Hacking Resolución"
   ]
  },
  {
   "cell_type": "markdown",
   "id": "d7d1a9ab",
   "metadata": {},
   "source": [
    "En este cuaderno se pretende enseñar los conceptos necesarios para realizar la práctica de \\textbf{Python Hacking 1}. En el se proponen diferentes ejercicios para familiarizarnos con Python.\n",
    "\n",
    "Gracias a la posibilidad de Jupyter, podremos ver rápidamente los resultados fácilmente."
   ]
  },
  {
   "cell_type": "markdown",
   "id": "561ba2fe",
   "metadata": {},
   "source": [
    "## Módulo Zipfile en Python"
   ]
  },
  {
   "cell_type": "markdown",
   "id": "ba15b77f",
   "metadata": {},
   "source": [
    "Gracias al módulo Zipfile, podremos trabajar facilmente con el archivos Zip, en el caso que deseemos generar ficheros comprimidos de una forma rápida y sencilla.\n",
    "\n",
    "Para ello lo primero que debemos de tener en cuenta es que deberemos de importar dicho módulo."
   ]
  },
  {
   "cell_type": "code",
   "execution_count": null,
   "id": "9de5b293",
   "metadata": {},
   "outputs": [],
   "source": [
    "import zipfile"
   ]
  },
  {
   "cell_type": "markdown",
   "id": "adf4bf0c",
   "metadata": {},
   "source": [
    "Una vez importado ya tendremos acceso a la clase [Zipfile](https://docs.python.org/3/library/zipfile.html), con el que podremos trabajar con ficheros Zip, ya sea creándolos, leyéndolos, escribiendo o agregando archivos. \n",
    "\n",
    "Para crear un fichero Zip lo primero que tendremos que hacer será indicar el nombre del fichero que deseamos crear."
   ]
  },
  {
   "cell_type": "code",
   "execution_count": null,
   "id": "5b648a27",
   "metadata": {},
   "outputs": [],
   "source": [
    "nombreFichero = \"textoPrueba.txt\"\n",
    "nombreZip = nombreFichero[:nombreFichero.find('.')]"
   ]
  },
  {
   "cell_type": "markdown",
   "id": "c5904092",
   "metadata": {},
   "source": [
    "Una vez tenemos el nombre del fichero a comprimir y el nombre del fichero que vamos a generar, podemos crear el objeto."
   ]
  },
  {
   "cell_type": "code",
   "execution_count": null,
   "id": "8d19ff33",
   "metadata": {},
   "outputs": [],
   "source": [
    " with zipfile.Zipfile (nombreZip, 'w', zipfile.ZIP_DEFLATED) as objetoZip:\n",
    "    \n",
    "        objetoZip.write(nombreFichero)"
   ]
  },
  {
   "cell_type": "markdown",
   "id": "e894643e",
   "metadata": {},
   "source": [
    "De esta forma tan simple hemos creado el fichero Zip, mediante el objeto Zipfile.\n",
    "\n",
    "Puede ocurrir que no entandamos el funcionamiento de with o porque motivo no cerramos el fichero. La sentencia with cerrará el fichero Zipfile, cuando finalice todas sus sentencias. De esta forma podemos omitir el cierre. \n",
    "\n",
    "A la hora de crear el objeto Zipfile, deberemos de pasarle el nombre que tendrá, el modo de acceso el cual podrá tomar los siguientes valores:"
   ]
  },
  {
   "cell_type": "markdown",
   "id": "8d1f45bd",
   "metadata": {},
   "source": [
    "- **r->** Para leer un archivo existente.\n",
    "- **w->** Si deseamos crear nuevo archivo en el cual escribir.\n",
    "- **a->** Para añadir nuevos archivos a un objeto zip, ya creado. En caso de no existir el archivo creara uno nuevo.\n",
    "- **x->** Para crear y escribir exclusivamente un nuevo archivo. En caso de que ya exista dará un FileExistsError."
   ]
  },
  {
   "cell_type": "code",
   "execution_count": null,
   "id": "0ea52b4f",
   "metadata": {},
   "outputs": [],
   "source": [
    "Después del modo, indicaremos el método de compresión, el puede ser:\n"
   ]
  },
  {
   "cell_type": "code",
   "execution_count": null,
   "id": "d197c483",
   "metadata": {},
   "outputs": [],
   "source": [
    "-- ZIP_STORED\n",
    "-- ZIP_DEFLATED\n",
    "-- ZIP_BZIP2\n",
    "-- ZIP_LZMA"
   ]
  },
  {
   "cell_type": "markdown",
   "id": "3bdadbf9",
   "metadata": {},
   "source": [
    "Si deseáramos comprimir varios archivos mediante un solo script lo que deberíamos de hacer sería realizar un bucle como el siguiente:"
   ]
  },
  {
   "cell_type": "code",
   "execution_count": null,
   "id": "082534a5",
   "metadata": {},
   "outputs": [],
   "source": [
    "listadoFicheros = \"Fichero1.txt,Fichero2.txt\";\n",
    "listadoNombreFicheros = listadoFicheros.split(',')\n",
    "with zipfile.Zipfile (nombreZip, 'w', zipfile.ZIP_DEFLATED) as objetoZip:\n",
    "        \n",
    "    for fichero in listadoNombreFicheros:\n",
    "        objetoZip.write(fichero)"
   ]
  },
  {
   "cell_type": "markdown",
   "id": "2cf5b36a",
   "metadata": {},
   "source": [
    "Una vez realizado este ejemplo, independientemente de donde se encuentre el listado de archivos a comprimir se pueden derivar de este ejemplo."
   ]
  },
  {
   "cell_type": "markdown",
   "id": "3ad72cad",
   "metadata": {},
   "source": [
    "### Descomprensión de Archivos"
   ]
  },
  {
   "cell_type": "markdown",
   "id": "045ca61d",
   "metadata": {},
   "source": [
    "Si leemos la documentación de **Zipfile**, se nos indica que para descomprimir un fichero Zip, únicamente necesitaremos crear una instancia de un objeto ZipFile al cual le pasaremos como argumento al constructor el nombre del fichero Zip, una vez hecho esto únicamente necesitaremos llamar a la función **extractall**, la cual descomprimirá el fichero. En caso que el fichero poseyera contraseña deberemos anteriormente haberle introducido la contraseña a la instancia del objeto mediante la función **setpassword**."
   ]
  },
  {
   "cell_type": "markdown",
   "id": "7fdbeaf8",
   "metadata": {},
   "source": [
    "Una vez explicado vamos a realizar un pequeño ejemplo:"
   ]
  },
  {
   "cell_type": "code",
   "execution_count": null,
   "id": "eb051657",
   "metadata": {},
   "outputs": [],
   "source": [
    "nombreArchivoZip = \"archivo.zip\"\n",
    "zipFileDescomprimir = zipfile.Zipfile(nombreArchivoZip)\n",
    "zipFileDescomprimir.extractall()\n",
    "zipFileDescomprimir.close()"
   ]
  },
  {
   "cell_type": "markdown",
   "id": "dfdd919c",
   "metadata": {},
   "source": [
    "Como sabemos el módulo Zipfile, nos permite descomprimir ficheros con contraseña, pero todavía no podemos encriptar los ficheros mediante él. Por ello si deseamos agregar una contraseña al fichero comprimido deberemos de utilizar la herramienta zip del sistema."
   ]
  },
  {
   "cell_type": "markdown",
   "id": "3f887d6d",
   "metadata": {},
   "source": [
    "Un ejemplo sería : zip -e fichero.zip fichero.txt"
   ]
  },
  {
   "cell_type": "markdown",
   "id": "f7c99131",
   "metadata": {},
   "source": [
    "Posteriormente nos pedirá la contraseña. Y tras ello tendremos nuestro fichero comprimido con contraseña."
   ]
  },
  {
   "cell_type": "markdown",
   "id": "8732c39b",
   "metadata": {},
   "source": [
    "### Subprocess"
   ]
  },
  {
   "cell_type": "markdown",
   "id": "f8249b93",
   "metadata": {},
   "source": [
    "El módulo subprocess nos mejora el potencial de Python, permitiendo a los scripts de Python a que tengan acceso a los comandos del Sistema Operativo. \n",
    "\n",
    "Para ello deberemos importar el módulo **subprocess**, para tener acceso a la función **run**, la cual será la que nos hará de intermediario, con los comandos del sistema. \n"
   ]
  },
  {
   "cell_type": "code",
   "execution_count": null,
   "id": "fc418c36",
   "metadata": {},
   "outputs": [],
   "source": [
    "import subprocess"
   ]
  },
  {
   "cell_type": "markdown",
   "id": "2bf205a0",
   "metadata": {},
   "source": [
    "Esta función nos pide la cadena que se desea ejecutar. De esta forma podremos fácilmente, que nuestro script de Python pueda introducir una contraseña en nuestros zip, mediante el comando **zip -e**."
   ]
  },
  {
   "cell_type": "markdown",
   "id": "ab099363",
   "metadata": {},
   "source": [
    "### Desencriptar ficheros con contraseña"
   ]
  },
  {
   "cell_type": "markdown",
   "id": "63a39eb1",
   "metadata": {},
   "source": [
    "Como hemos indicado con anterioridad, zipfile lo permite, por ello lo único que debemos de hacer será introducir la contraseña a la hora de intentar descomprimir. "
   ]
  },
  {
   "cell_type": "code",
   "execution_count": null,
   "id": "f877c087",
   "metadata": {},
   "outputs": [],
   "source": [
    "nombreFicheroZip = \"archivoConPassword.zip\"\n",
    "clave = \"claveZip\"\n",
    "    \n",
    "ficheroZip = zipfile.ZipFile(nombreFicheroZip)\n",
    "    \n",
    "try:\n",
    "        \n",
    "    ficheroZip.extractall(pwd=clave.encode())\n",
    "    print(\"[+] Password Correcta\" )\n",
    "         \n",
    "except:\n",
    "    print(\"[-] Password Incorrecta \" + clave)"
   ]
  },
  {
   "cell_type": "markdown",
   "id": "2a5c08fd",
   "metadata": {},
   "source": [
    "## Zip-Cracker"
   ]
  },
  {
   "cell_type": "markdown",
   "id": "56724239",
   "metadata": {},
   "source": [
    "Si deseáramos romper la protección de la contraseña de un fichero zip, podemos realizarlo mediante fuerza bruta, a partir de un diccionario de contraseñas. Para ello, en primer lugar necesitaremos un fichero que nos sirva como diccionario de contraseñas, el cual posea un listado de contraseñas y que contenga la contraseña valida. De esta forma podremos ir probando cada una de las contraseñas.\n",
    "\n",
    "Para ello deberemos de recorrer el fichero donde se encuentren las contraseñas, y posteriormente ''intertar'' descomprimir el fichero."
   ]
  },
  {
   "cell_type": "code",
   "execution_count": null,
   "id": "95588765",
   "metadata": {},
   "outputs": [],
   "source": [
    "diccionario =\"diccionario.txt\"\n",
    "nombreFicheroZip = \"archivoConPassword.zip\"\n",
    "try:\n",
    "    fichero = open (diccionario,'r')\n",
    "    ficheroZip = zipfile.ZipFile(nombreFicheroEntrada)\n",
    "    encontradaKey = False\n",
    "    for password in fichero:\n",
    "        try:\n",
    "            clave = password[:password.find('\\\\')]\n",
    "            ficheroZip.extractall(pwd=clave.encode())\n",
    "            encontradaKey = not(encontradaKey)\n",
    "            print(\"[+] Password Correcta \" + clave)\n",
    "            break;\n",
    "        except:\n",
    "                print(\"[-] Password Incorrecta \" + password)   \n",
    "            \n",
    "finally:\n",
    "    fichero.close()\n",
    "    ficheroZip.close()\n",
    "if encontradaKey is False :\n",
    "    print (\"Lo sentimos pero el diccionario actual no posee la password del fichero Zip\")\n",
    "else :\n",
    "    print(\"El fichero ha sido descomprimido correctamente\")"
   ]
  }
 ],
 "metadata": {
  "kernelspec": {
   "display_name": "Python 3",
   "language": "python",
   "name": "python3"
  },
  "language_info": {
   "codemirror_mode": {
    "name": "ipython",
    "version": 3
   },
   "file_extension": ".py",
   "mimetype": "text/x-python",
   "name": "python",
   "nbconvert_exporter": "python",
   "pygments_lexer": "ipython3",
   "version": "3.8.8"
  }
 },
 "nbformat": 4,
 "nbformat_minor": 5
}
