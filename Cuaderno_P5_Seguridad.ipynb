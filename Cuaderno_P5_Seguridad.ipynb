{
 "cells": [
  {
   "cell_type": "markdown",
   "id": "68226f64",
   "metadata": {},
   "source": [
    "# Autenticación de Mensajes y Funciones Hash"
   ]
  },
  {
   "cell_type": "markdown",
   "id": "d08a7f1a",
   "metadata": {},
   "source": [
    "## Introducción"
   ]
  },
  {
   "cell_type": "markdown",
   "id": "17af6f16",
   "metadata": {},
   "source": [
    " Con este cuaderno se pretende exponer el funcionamiento de las funciones Hash, además de su aplicación en la autenticación de mensajes. Para ello haremos  diferentes scrypts en Python.\n",
    "    \n",
    "    \n",
    "Como sabemos las funciones Hash generan a partir de cadenas binarias una salida de longitud fija, con el aspecto importante de que es prácticamente imposible obtener a partir de los datos de salida los datos originales. Siendo así una función unidireccional. \n",
    "    \n",
    "Además de que es prácticamente imposible que dos mensajes generen el mismo hash. \n",
    "   \n",
    "Una de sus principales uso sería la gestión de identificadores y contraseñas. Por ejemplo, a la hora de realizar el inició de sesión en un software, el sistema deberá de comprobar que el usuario y la contraseña introducidas son las correctas para poder acceder al servicio. Para que exista un mayor nivel de seguridad, el sistema no guarda la contraseña, sino que guarda el Hash de la contraseña. Y, por tanto, cuando introducimos nuestra contraseña para acceder, el sistema calcula el Hash de la contraseña y lo compara con el guardado en el sistema. Si ambos coinciden, permitirá el acceso. \n",
    "    \n",
    "Una vez entendido los funcionamientos y utilidades nos centraremos en como trabajar con ellas mediante Python."
   ]
  },
  {
   "cell_type": "markdown",
   "id": "58bc66c9",
   "metadata": {},
   "source": [
    "## PyCryptodome"
   ]
  },
  {
   "cell_type": "markdown",
   "id": "0127f84e",
   "metadata": {},
   "source": [
    "Para trabajar con funciones hash, Python posee el módulo **PyCryptodome**, el cual pretende actualizar el módulo **PyCrypto**. Con el podremos utilizar funciones de bajo nivel para criptográfica.\n",
    "        \n",
    "En primer lugar deberemos de instalar el módulo **pycryptodome**, para ello mediante un terminal utilizaremos el comando ***pip pycryptodome***. \n",
    "        \n",
    "Una vez hecho eso podremos importarlo en un nuestros scripts y trabajar con él. En concreto deberemos de importar las funciones del submodulo Hash de Crypto. En nuestro caso en primer lugar trabajaremos con MD5 y SHA256, por ello las importaremos solo ellas."
   ]
  },
  {
   "cell_type": "code",
   "execution_count": 1,
   "id": "01961fee",
   "metadata": {},
   "outputs": [],
   "source": [
    "from Crypto.Hash import MD5\n",
    "from Crypto.Hash import SHA256"
   ]
  },
  {
   "cell_type": "markdown",
   "id": "480fe371",
   "metadata": {},
   "source": [
    "Para generar un hash mediante ellas podemos crearnos una función simple para cada uno de los métodos para simplificarnos el trabajo a la hora de hashear un texto."
   ]
  },
  {
   "cell_type": "code",
   "execution_count": 2,
   "id": "e93abb68",
   "metadata": {},
   "outputs": [],
   "source": [
    "def generarHashCodeMD5 (datoEntrada):\n",
    "    objetoHash = MD5.new(data=datoEntrada.encode())\n",
    "    return objetoHash.digest()\n",
    "            \n",
    "def generarHashCodeSHA256 (datoEntrada):\n",
    "    objetoHash = SHA256.new(data=datoEntrada.encode())\n",
    "    return objetoHash.digest()"
   ]
  },
  {
   "cell_type": "markdown",
   "id": "ad5448fc",
   "metadata": {},
   "source": [
    "Para ello en cada una de las funciones lo que hemos hecho ha sido crear un objeto de la clase MD5 en el caso que queramos trabajar con MD5, al cual en el constructor le hemos pasado el dato (una cadena binaria). Posteriormente llamaremos a la función digest, para obtener el hash del objeto.\n",
    "        \n",
    "Como podemos ver ambas clases poseen la misma interfaz para trabajar con ellos.\n",
    "        \n",
    "Si deseamos encriptar un texto podemos utilizar el siguiente fragmento en el caso que queramos utilizar MD5."
   ]
  },
  {
   "cell_type": "code",
   "execution_count": 3,
   "id": "c0eb4039",
   "metadata": {},
   "outputs": [],
   "source": [
    "nombreFichero = \"hola.txt\""
   ]
  },
  {
   "cell_type": "code",
   "execution_count": 5,
   "id": "05eb5376",
   "metadata": {},
   "outputs": [
    {
     "name": "stdout",
     "output_type": "stream",
     "text": [
      "Hash generado por MD5\n",
      "hashFileGenerado = b'6h\\xf3|\\xd0\\xefR\\x1c\\xcc,A\\x04\\rS\\xb1\\xea'\n"
     ]
    }
   ],
   "source": [
    "print (\"Hash generado por MD5\")\n",
    "hashFileGenerado = generarHashCodeMD5(nombreFichero)\n",
    "print (f\"{hashFileGenerado = }\") "
   ]
  },
  {
   "cell_type": "markdown",
   "id": "40f01a65",
   "metadata": {},
   "source": [
    "Si deseáramos usar el SHA-256 únicamente necesitamos utilizar el **generarHashCodeSHA256**"
   ]
  },
  {
   "cell_type": "code",
   "execution_count": 7,
   "id": "38b7db32",
   "metadata": {},
   "outputs": [
    {
     "name": "stdout",
     "output_type": "stream",
     "text": [
      "Hash generado por SHA-256\n",
      "hashFileGenerado = b\"S9\\xea\\x00\\xa3\\xecEXS\\x89'\\xb6][\\xcfd\\xce\\x90\\xcd\\t\\xb1;\\x0b=\\x13\\x19\\x1e\\x1b\\xe3z\\xbc\\xd9\"\n"
     ]
    }
   ],
   "source": [
    "print (\"Hash generado por SHA-256\")\n",
    "hashFileGenerado = generarHashCodeSHA256(nombreFichero)\n",
    "print (f\"{hashFileGenerado = }\") "
   ]
  },
  {
   "cell_type": "markdown",
   "id": "156c9c7d",
   "metadata": {},
   "source": [
    " Si deseamos comprobar el hash de un fichero o de un mensaje lo que deberos de hacer es generar el hash del fichero y compararlo con el que el usuario introduzca.\n",
    "        \n",
    "Para ello podemos utilizar el siguiente script el cual mediante diferentes argumentos podemos realizar las comprobaciones de Hash tanto para ficheros, mensajes, etc."
   ]
  },
  {
   "cell_type": "markdown",
   "id": "0bcb37f7",
   "metadata": {},
   "source": [
    "Este script de acontinuación se debe de ejecutar aparte, debido a que como ya hemos indicado en cuadernos anteriores el módulo de **argparse** no funciona correctamente en Jupyter."
   ]
  },
  {
   "cell_type": "code",
   "execution_count": null,
   "id": "e995d999",
   "metadata": {},
   "outputs": [],
   "source": [
    "parser = argparse.ArgumentParser(description='Aglutina todos los script pedidos')\n",
    "\n",
    "parser.add_argument('-f1', dest = \"fileIn1\", type=str,\tmetavar='FILEIN1',\n",
    "                                help='Nombre del fichero 1 que se desea tratar')\n",
    "            \n",
    "parser.add_argument('-f2', dest = \"fileIn2\", type=str,\tmetavar='FILEIN2',\n",
    "                                help='Nombre del fichero 2 que se desea tratar')\n",
    "            \n",
    "parser.add_argument('-hc', dest = \"hashCode\", type=str,\tmetavar='HASHCODE',\n",
    "                                help='Introduzca el Hash que se desea comparar con el fichero 1')\n",
    "            \n",
    "parser.add_argument('-m',dest = \"MD5\" , help='Si se activa se realizarán las pruebas con el algortimo MD5', action='store_true')\n",
    "            \n",
    "parser.add_argument('-s',dest = \"SHA256\", help='Si se activa se realizarán las pruebas con el algortimo SHA256', action='store_true')\n",
    "            \n",
    "args = parser.parse_args()\n",
    "            \n",
    "nombreFichero1 = args.fileIn1\n",
    "            \n",
    "nombreFichero2 = args.fileIn2\n",
    "    \n",
    "hashCodeIntroducido = args.hashCode\n",
    "            \n",
    "MD5Activo = args.MD5\n",
    "            \n",
    "SHA256Activo = args.SHA256"
   ]
  },
  {
   "cell_type": "code",
   "execution_count": null,
   "id": "1ddc934a",
   "metadata": {},
   "outputs": [],
   "source": [
    "nombreFichero1 = \"hola.txt\"\n",
    "            \n",
    "nombreFichero2 = \"hola.txt\"\n",
    "    \n",
    "hashCodeIntroducido = \"\"\n",
    "            \n",
    "MD5Activo = True\n",
    "            \n",
    "SHA256Activo = True\n",
    "            \n",
    "            \n",
    "if MD5Activo is False and SHA256Activo is False:\n",
    "    print (\"Lo sentimos pero debe de escoger al menos un tipo del algoritmo Hash para trabajar\")\n",
    "    print (\"El programa finalizara\")\n",
    "    exit (-1)\n",
    "            \n",
    "if nombreFichero1 is not None and nombreFichero2 is not None:\n",
    "#Deseamos comparar los hash Code de cada uno de los ficheros para saber si son el mismo.\n",
    "    if MD5Activo is True:\n",
    "        print (\"Realizando comparación con el MD5\")\n",
    "        hashFile1 = generarHashCodeMD5(nombreFichero1)\n",
    "        hashFile2 = generarHashCodeMD5(nombreFichero2)\n",
    "        if hashFile1 == hashFile2:\n",
    "            print (\"[+] Los dos ficheros poseen el mismo hash code \" + str(hashFile1))\n",
    "        else:\n",
    "            print (\"[-] Los dos ficheros NO poseen el mismo hash code \" )\n",
    "            print (\"Fichero \" + nombreFichero1 + \" posee el hash code \" + str(hashFile1))\n",
    "            print (\"Fichero \" + nombreFichero2 + \" posee el hash code \" + str(hashFile2))\n",
    "        if SHA256Activo is True:\n",
    "            print (\"Realizando comparación con el SHA-256\")\n",
    "            hashFile1 = generarHashCodeSHA256(nombreFichero1)\n",
    "            hashFile2 = generarHashCodeSHA256(nombreFichero2)\n",
    "        if hashFile1 == hashFile2:\n",
    "            print (\"[+] Los dos ficheros poseen el mismo hash code \" + str(hashFile1))\n",
    "            else:\n",
    "                print (\"[-] Los dos ficheros NO poseen el mismo hash code \" )\n",
    "                print (\"Fichero \" + nombreFichero1 + \" posee el hash code \" + str(hashFile1))\n",
    "                print (\"Fichero \" + nombreFichero2 + \" posee el hash code \" + str(hashFile2))\n",
    "            \n",
    "        elif nombreFichero1 is not None and hashCodeIntroducido is not None:\n",
    "            #En este caso lo que deseamos es compara el hash del fichero1 con el hash introducido\n",
    "            if MD5Activo is True:\n",
    "                hashFile = generarHashCodeMD5(nombreFichero1)\n",
    "                if hashFile == hashCodeIntroducido:\n",
    "                    print (\"[+] El hash code introducido es el del fichero \" + str(hashFile))\n",
    "                else:\n",
    "                    print (\"[-] El fichero no posee el mismo hash code que el que se ha introducido \" )\n",
    "                    print (\"Fichero \" + nombreFichero1 + \" posee el hash code\" + str(hashFile) + \"!= \" + hashCodeIntroducido)\n",
    "            if SHA256Activo is True:\n",
    "                hashFile = generarHashCodeSHA256(nombreFichero1)\n",
    "                    \n",
    "                if hashFile == hashCodeIntroducido:\n",
    "                    print (\"[+] El hash code introducido es el del fichero \" + str(hashFile))\n",
    "                else:\n",
    "                    print (\"[-] El fichero no posee el mismo hash code que el que se ha introducido \" )\n",
    "                    print (\"Fichero \" + nombreFichero1 + \" posee el hash code\" + str(hashFile) + \"!= \" + hashCodeIntroducido)\n",
    "        elif nombreFichero1 is not None:\n",
    "            # En este caso solo queremos mostrar los hash Code dependiendo de los tipos\n",
    "            if MD5Activo is True:\n",
    "                print (\"Hash generado por MD5\")\n",
    "                hashFileGenerado = generarHashCodeMD5(nombreFichero1)\n",
    "                print (f\"{hashFileGenerado = }\") \n",
    "            \n",
    "            if SHA256Activo is True:\n",
    "                print (\"Hash generado por SHA256\")\n",
    "                hashFileGenerado = generarHashCodeSHA256(nombreFichero1)\n",
    "                print (f\"{hashFileGenerado = }\") \n",
    "                    \n",
    "        else:\n",
    "            if nombreFichero2 is not None:\n",
    "                print (\"[ERROR] Solo se ha suministrado el nombreFichero2, lo sentimos, necesitamos el argumento fichero1 para comparar\")\n",
    "              \n",
    "            if hashCodeIntroducido is not None:\n",
    "                print (\"[ERROR] Solo se ha suministrado el hashCode, lo sentimos, necesitamos el argumento fichero1 para comparar\")"
   ]
  },
  {
   "cell_type": "markdown",
   "id": "21860c66",
   "metadata": {},
   "source": [
    "En el caso de desear encriptar mediante la autenticación de mensajes, para ello utilizamos el objeto HMAC, en la cual deberemos de pasar la clave secreta, y el modo de encriptación. \n",
    "    \n",
    "Para ello podemos usar el siguiente fragmento:"
   ]
  },
  {
   "cell_type": "code",
   "execution_count": null,
   "id": "bcebf6de",
   "metadata": {},
   "outputs": [],
   "source": [
    "def cifrarFichero (nombreFichero, objetoHash):\n",
    "    mensajeCifrado =\"\"\n",
    "    try:\n",
    "        fichero = open (nombreFichero,'r')\n",
    "        for linea in fichero:\n",
    "            linea = linea[:linea.find('\\\\')] #Con esto quitamos el barra n\n",
    "            objetoHash.update(linea.encode())\n",
    "                    \n",
    "        mensajeCifrado = objetoHash.hexdigest()\n",
    "        finally:\n",
    "               fichero.close()\n",
    "        return mensajeCifrado\n",
    "    \n",
    "def cifrarMensaje (mensaje, objetoHash):\n",
    "    objetoHash.update(mensaje.encode())\n",
    "    mensajeCifrado = objetoHash.hexdigest()\n",
    "    return mensajeCifrado"
   ]
  },
  {
   "cell_type": "code",
   "execution_count": null,
   "id": "ac710262",
   "metadata": {},
   "outputs": [],
   "source": [
    "MD5Activo = True\n",
    "SHA256Activo = True\n",
    "mensajeDeseado = \"Mensaje de prueba\"\n",
    "claveSecreta = \"12345\""
   ]
  },
  {
   "cell_type": "code",
   "execution_count": null,
   "id": "6d6a9d05",
   "metadata": {},
   "outputs": [],
   "source": [
    "if MD5Activo is True:\n",
    "    print (\"Mediante MD5\")\n",
    "    objetoHMAC = HMAC.new(claveSecreta.encode(), digestmod=MD5)\n",
    "    hashGenerado = cifrarMensaje(mensajeDeseado,objetoHMAC)\n",
    "                \n",
    "    print (\"Valor hexadecimal -> \" + hashGenerado)\n",
    "                \n",
    "if SHA256Activo is True:\n",
    "    print (\"Mediante SHA256\")\n",
    "    objetoHMAC = HMAC.new(claveSecreta.encode(), digestmod=SHA256)\n",
    "    hashGenerado = cifrarMensaje(mensajeDeseado,objetoHMAC)\n",
    "                \n",
    "    print (\"Valor hexadecimal -> \" + hashGenerado)"
   ]
  },
  {
   "cell_type": "markdown",
   "id": "d234abf4",
   "metadata": {},
   "source": [
    "Si deseáramos cifrar un fichero de texto entero, podemos utilizar la función **cifrarFichero**, a la cual le deberemos de pasar el nombre del fichero y el objeto HMAC."
   ]
  }
 ],
 "metadata": {
  "kernelspec": {
   "display_name": "Python 3",
   "language": "python",
   "name": "python3"
  },
  "language_info": {
   "codemirror_mode": {
    "name": "ipython",
    "version": 3
   },
   "file_extension": ".py",
   "mimetype": "text/x-python",
   "name": "python",
   "nbconvert_exporter": "python",
   "pygments_lexer": "ipython3",
   "version": "3.8.8"
  }
 },
 "nbformat": 4,
 "nbformat_minor": 5
}
