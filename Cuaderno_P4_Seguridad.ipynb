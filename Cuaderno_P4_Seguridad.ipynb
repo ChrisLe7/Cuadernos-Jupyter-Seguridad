{
 "cells": [
  {
   "cell_type": "markdown",
   "id": "72df1983",
   "metadata": {},
   "source": [
    "# Encriptación Clásica y Conceptos básicos de encriptación\n",
    "\n",
    "## Introducción\n",
    "\n",
    "En este cuadernos ***jupyter***, se pretenderá mostrar y resolver los diferentes ejercicios propuestos en la práctica 4 de Seguridad. \n",
    "\n",
    "Las técnicas de cifrado que veremos serán aquellas basadas en la sustitución y transposición de los caracteres del mensaje. Debemos de saber que a lo largo de la historia han surgido muchos algoritmos de cifrado, los cuales han servido como base a las técnicas modernas de encriptación computacional."
   ]
  },
  {
   "cell_type": "markdown",
   "id": "83404eed",
   "metadata": {},
   "source": [
    "## Técnicas de Encriptación por sustitución\n",
    "\n",
    "Uno de los primeros cifrados basados en la sustitución sería el cifrado **Caesar**, el cual consistiría en el desplazamiento de la cadena del alfabeto, “k” posiciones de la posición original de la letra.Provocando así que el mensaje cifrado tenga las mismas frecuencias de repetición.\n",
    "\n",
    "El algoritmo original utilizaba una k = 3, la cual sería como podemos saber la clave secreta, para encriptar y desencriptar el mensaje.\n",
    "\n",
    "Una vez entendido el fundamento del algoritmo, en nuestro caso utilizaremos la cadena de caracteres del alfabeto ingles, como alfabeto para encriptar, siendo necesario que nuestro algoritmo desplace los caracteres de la cadena, k veces a la derecha. Una vez realizado esto, procederemos al cambio de caracteres por su correspondiente. \n",
    "\n",
    "Esto lo podemos ver gráficamente en la figura.\n",
    "\n",
    "![N|Solid](https://media.discordapp.net/attachments/885853525870018580/898872203351826452/ceaserCipher.png)\n"
   ]
  },
  {
   "cell_type": "markdown",
   "id": "12fbd8f1",
   "metadata": {},
   "source": [
    "Una vez entendido de forma teórica el funcionamiento del algoritmo **Caesar**, procederemos a realizar las diferentes líneas necesarias para implementarlo en Python. "
   ]
  },
  {
   "cell_type": "markdown",
   "id": "e1c18315",
   "metadata": {},
   "source": [
    "### Encriptación mediante Caesar"
   ]
  },
  {
   "cell_type": "markdown",
   "id": "99acef34",
   "metadata": {},
   "source": [
    "Primero deberemos de importar los módulos necesarios para el tratamiento de argumentos y para poder trabajar con cadenas de texto y usar la función para obtener el alfabeto ingles."
   ]
  },
  {
   "cell_type": "code",
   "execution_count": null,
   "id": "49aedbc8",
   "metadata": {},
   "outputs": [],
   "source": [
    "import argparse # Nota este modulo no se puede utilizar en jupyter\n",
    "import string"
   ]
  },
  {
   "cell_type": "markdown",
   "id": "99959c4a",
   "metadata": {},
   "source": [
    "Después deberemos de realizar el tratamiento de argumentos del programa, para ello utilizaremos la clase ***ArgumentParser***, proporcionada por el modulo argparse. Las siguientes instrucciones se recomiendan no ejecutar debido a que jupyter no permite el tratamiento por linea de argumentos. Estos fragmentos siguientes son explicativos únicamente, si desea utilizar solo el cuaderno Jupyter, se recomienda no ejecutarlos. "
   ]
  },
  {
   "cell_type": "code",
   "execution_count": null,
   "id": "205562a1",
   "metadata": {},
   "outputs": [],
   "source": [
    "parser = argparse.ArgumentParser(description='Encriptar un fichero de texto mediante la encriptacion Caesar')"
   ]
  },
  {
   "cell_type": "markdown",
   "id": "61140ab5",
   "metadata": {},
   "source": [
    "De esta forma en la variable parser tendremos un objeto de la clase, el cual mediante su constructor hemos rellenado la descripción del algoritmo. Para agregar un argumento obligatorio utilizaremos la función ***add_argument***, mediante la cual podremos. "
   ]
  },
  {
   "cell_type": "code",
   "execution_count": null,
   "id": "04a37ffd",
   "metadata": {},
   "outputs": [],
   "source": [
    "parser.add_argument(\"fileIn\", help=\"Fichero que se desea encriptar\", type=str)"
   ]
  },
  {
   "cell_type": "markdown",
   "id": "2873ffd9",
   "metadata": {},
   "source": [
    "Si deseamos agregar a nuestro programa un argumento opcional, podemos utilizar la misma función indicándole."
   ]
  },
  {
   "cell_type": "code",
   "execution_count": null,
   "id": "5a1060a3",
   "metadata": {},
   "outputs": [],
   "source": [
    "parser.add_argument('-o', dest = \"fileOut\", type=str, metavar='fileOut', help='Especifica el fichero de Salida')"
   ]
  },
  {
   "cell_type": "markdown",
   "id": "a542e431",
   "metadata": {},
   "source": [
    "Una vez tengamos todos los argumentos deseados deberemos de parsear los argumentos. Para ello utilizaremos la función ***parse_args***, la cual lo que hará será parsear los diferentes argumentos que se le pasen al script a la hora de ejecutarlo."
   ]
  },
  {
   "cell_type": "code",
   "execution_count": null,
   "id": "7bc4b3c2",
   "metadata": {},
   "outputs": [],
   "source": [
    "argumentos = parser.parse_args()"
   ]
  },
  {
   "cell_type": "markdown",
   "id": "80dfef52",
   "metadata": {},
   "source": [
    "Una vez ya parseados los argumentos, tendremos acceso a ellos a través de la variable argumentos, utilizados el ''.'' seguido del nombre del argumento especificado, similar al uso de estructuras en C, C++, etc. Un ejemplo de acceso sería el siguiente."
   ]
  },
  {
   "cell_type": "code",
   "execution_count": null,
   "id": "6ff6c54b",
   "metadata": {},
   "outputs": [],
   "source": [
    "nombreFicheroEncriptar = argumentos.fileIn"
   ]
  },
  {
   "cell_type": "markdown",
   "id": "439655f0",
   "metadata": {},
   "source": [
    "Un aspecto muy importante a tener en cuenta es que los argumentos opcionales en el caso que no hayan sido suministrados, deberemos de realizar un control de errores ya que nos devuelve **None**, en el caso que accedamos al argumento sin haber sido suministrado. \n",
    "\n",
    "Por ello deberíamos de realizar la siguiente comprobación."
   ]
  },
  {
   "cell_type": "markdown",
   "id": "7f610f9e",
   "metadata": {},
   "source": [
    "En caso que no sea suministrado el nombre lo que haremos sera utilizar el mismo nombre que el de origen con la extensión enc."
   ]
  },
  {
   "cell_type": "code",
   "execution_count": null,
   "id": "bda77b56",
   "metadata": {},
   "outputs": [],
   "source": [
    "nombreFicheroDestino = argumentos.fileOut\n",
    "if nombreFicheroDestino is None:\n",
    "    nombreFicheroDestino = nombreFicheroEncriptar[:nombreFicheroEncriptar.find('.')]\n",
    "    nombreFicheroDestino = nombreFicheroDestino + \".enc\""
   ]
  },
  {
   "cell_type": "markdown",
   "id": "9e956269",
   "metadata": {},
   "source": [
    "Tras haber leído los argumentos y comprobado sus contenidos, procedemos a coger el alfabeto inglés para trabajar con el algoritmo **Caesar**. Para ello utilizaremos la clase string, la cual mediante **ascii_letters**, obtendremos el conjunto de letras permitidas."
   ]
  },
  {
   "cell_type": "code",
   "execution_count": null,
   "id": "17b230e9",
   "metadata": {},
   "outputs": [],
   "source": [
    "cadenaAlfabeto = string.ascii_letters\n",
    "print (cadenaAlfabeto)"
   ]
  },
  {
   "cell_type": "markdown",
   "id": "965aba76",
   "metadata": {},
   "source": [
    "Como podemos observar, en la ejecución anterior, cadenaAlfabeto posee todas las letras del alfabeto minúsculas y mayúsculas juntas. Si no deseáramos utilizar todas las letras sino solo las minúsculas podemos utilizar **ascii_lowercase** para obtener las minúsculas o **ascii_uppercase** para las mayúsculas."
   ]
  },
  {
   "cell_type": "code",
   "execution_count": null,
   "id": "6191cab6",
   "metadata": {},
   "outputs": [],
   "source": [
    "cadenaAlfabeto = string.ascii_lowercase\n",
    "print (cadenaAlfabeto)"
   ]
  },
  {
   "cell_type": "code",
   "execution_count": null,
   "id": "0036d6ad",
   "metadata": {},
   "outputs": [],
   "source": [
    "cadenaAlfabeto = string.ascii_uppercase\n",
    "print (cadenaAlfabeto)"
   ]
  },
  {
   "cell_type": "markdown",
   "id": "ec57df6c",
   "metadata": {},
   "source": [
    "Una vez obtenido el alfabeto lo que haremos será generar una lista con cada uno de los caracteres y posteriormente desplazar los elementos de la lista \"k\" posiciones. Para ello en nuestro caso para facilitarnos un poco el trabajo utilizaremos la función *desplazarlista* creada por nosotros la cual se le pasara la lista a modificar y sus desplazamientos."
   ]
  },
  {
   "cell_type": "code",
   "execution_count": null,
   "id": "eeeb89d1",
   "metadata": {},
   "outputs": [],
   "source": [
    "def desplazarlistaDerecha(lista, desplazamiento=0):\n",
    "    longitoLista = len(lista)\n",
    "    for i, elemento in enumerate(lista[:]):\n",
    "        lista[(i + desplazamiento) % longitoLista] = elemento\n",
    "    return lista\n"
   ]
  },
  {
   "cell_type": "markdown",
   "id": "7cba94bf",
   "metadata": {},
   "source": [
    "Como podemos ver en la función lo que hacemos es realizar un bucle el cual recorrerá la lista, para ello utilizaremos la función enumerate la cual nos proporcionar una tupla de dos elementos, formada por el índice de la iteración actual junto con el elemento de la lista en la posición que nos encontramos. De esta forma podremos  realizar los desplazamientos de los caracteres fácilmente."
   ]
  },
  {
   "cell_type": "code",
   "execution_count": null,
   "id": "db2cdc07",
   "metadata": {},
   "outputs": [],
   "source": [
    "listaCaracteres = list(cadenaAlfabeto)\n",
    "print(f\"{listaCaracteres}=\")\n",
    "claveCaesar = 3 #Si se desea modificar la clave tocar esta variable \n",
    "listaCaracteres = desplazarlistaDerecha(listaCaracteres,claveCaesar)\n",
    "print(f\"{listaCaracteres}=\")"
   ]
  },
  {
   "cell_type": "markdown",
   "id": "fd7f0c17",
   "metadata": {},
   "source": [
    "Una vez realizado esto ya podemos proceder a abrir el fichero que deseamos encriptar y recorrerlo realizando los cambios. Para realizar los cambios utilizaremos la función maketrans, la cual nos devuelve un mapeo de caracteres, relacionando los caracteres del alfabeto a la cadenaDesplazada.\n",
    "\n",
    "De esta forma podremos después realizar una traducción de la linea del fichero usando este mapeo, generando así nuestra cadenaEncriptada mediante **Caesar**.\n",
    "\n",
    "Y finalmente escribimos en el ficheroEncriptado el resultado."
   ]
  },
  {
   "cell_type": "code",
   "execution_count": null,
   "id": "d68aff58",
   "metadata": {},
   "outputs": [],
   "source": [
    "nombreFicheroEntrada = \"hola.txt\"\n",
    "nombreSalida=\"hola.enc\"\n",
    "ficheroPlano = open(nombreFicheroEntrada, 'r')\n",
    "ficheroEncriptado = open(nombreSalida, 'w')\n",
    "cadenaEncriptar = \"\".join(listaCaracteres)\n",
    "try:\n",
    "    # Procesamiento del fichero\n",
    "    for linea in ficheroPlano:\n",
    "        trantab = linea.maketrans(cadenaAlfabeto, cadenaEncriptar)\n",
    "        lineaEncriptada = linea.translate(trantab)\n",
    "        ficheroEncriptado.write(lineaEncriptada)\n",
    "        \n",
    "finally:\n",
    "    ficheroPlano.close()\n",
    "    ficheroEncriptado.close()"
   ]
  },
  {
   "cell_type": "markdown",
   "id": "0cae3f56",
   "metadata": {},
   "source": [
    "Finalmente cerramos los ficheros y ya tendríamos los ficheros encriptados."
   ]
  },
  {
   "cell_type": "markdown",
   "id": "de93b4ef",
   "metadata": {},
   "source": [
    "### Desencriptación mediante Caesar"
   ]
  },
  {
   "cell_type": "markdown",
   "id": "3f776ea6",
   "metadata": {},
   "source": [
    "Para el caso de desencriptar utilizaremos muchos aspectos antes vistos. Como por ejemplo el tratamiento de argumentos."
   ]
  },
  {
   "cell_type": "code",
   "execution_count": null,
   "id": "c3e9eed1",
   "metadata": {},
   "outputs": [],
   "source": [
    "import argparse\n",
    "import string\n",
    "\n",
    "parser = argparse.ArgumentParser(description='Encriptar un fichero de texto mediante la encriptacion Caesar')\n",
    "\n",
    "parser.add_argument(\"fileIn\", help=\"Fichero que se desea desencriptar\", type=str)\n",
    "\n",
    "parser.add_argument('-o', dest = \"fileOut\", type=str,\tmetavar='fileOut',\n",
    "                    help='Especifica el fichero de salida')\n",
    "\n",
    "argumentos = parser.parse_args()\n",
    "\n",
    "nombreFicheroDesencriptar = argumentos.fileIn\n",
    "\n",
    "nombreFicheroDestino = argumentos.fileOut\n",
    "if nombreFicheroDestino is None:\n",
    "    nombreFicheroDestino = nombreFicheroDesencriptar[:nombreFicheroDesencriptar.find('.')]\n",
    "    nombreFicheroDestino = nombreFicheroDestino + \".txt\"\n",
    "    \n"
   ]
  },
  {
   "cell_type": "code",
   "execution_count": null,
   "id": "1a29fe6f",
   "metadata": {},
   "outputs": [],
   "source": [
    "def desplazarlistaIzquierda(lista, desplazamiento=0):\n",
    "    longitoLista = len(lista)\n",
    "    for i, elemento in enumerate(lista[:]):\n",
    "        lista[(i - desplazamiento) % longitoLista] = elemento\n",
    "    return lista\n"
   ]
  },
  {
   "cell_type": "code",
   "execution_count": null,
   "id": "e7a77c18",
   "metadata": {},
   "outputs": [],
   "source": [
    "cadenaAlfabeto = string.ascii_letters\n",
    "\n",
    "listaCaracteres = list(cadenaAlfabeto)\n",
    "\n",
    "claveCaesar = 3 #Si se desea modificar la clave tocar esta variable la cual debera de ser la misma que la de encriptar\n",
    "listaCaracteres = desplazarlistaIzquierda(listaCaracteres,claveCaesar)\n",
    "\n",
    "nombreFicheroDesencriptar = \"hola.enc\" # Esta variable se cogeria del argumentos.fileIn\n",
    "nombreFicheroDestino = \"holaDesencriptar.txt\" # Esta variable se cogeria del argumentos.fileOut\n",
    "\n",
    "cadenaEncriptar = ''.join(listaCaracteres)\n",
    "\n",
    "ficheroEncriptado = open(nombreFicheroDesencriptar, 'r')\n",
    "ficheroDesencriptado = open(nombreFicheroDestino, 'w')\n",
    "try:\n",
    "    # Procesamiento del fichero\n",
    "    for linea in ficheroEncriptado:\n",
    "        trantab = linea.maketrans(cadenaAlfabeto, cadenaEncriptar)\n",
    "        lineaDesencriptada = linea.translate(trantab)\n",
    "        ficheroDesencriptado.write(lineaDesencriptada)\n",
    "        \n",
    "finally:\n",
    "    ficheroEncriptado.close()\n",
    "    ficheroDesencriptado.close()\n"
   ]
  },
  {
   "cell_type": "markdown",
   "id": "ee175c14",
   "metadata": {},
   "source": [
    "Si deseamos realizar que estos mismos algoritmos permitan varían la clave de desplazamiento, debemos de agregar este argumento."
   ]
  },
  {
   "cell_type": "code",
   "execution_count": null,
   "id": "124ac322",
   "metadata": {},
   "outputs": [],
   "source": [
    "parser.add_argument(\"clave\", help=\"Desplazamiento para la encriptacion Caesar\", type=int)\n",
    "argumentos = parser.parse_args()"
   ]
  },
  {
   "cell_type": "markdown",
   "id": "33d01eb6",
   "metadata": {},
   "source": [
    "Posteriormente unicamente necesitaremos coger la clave."
   ]
  },
  {
   "cell_type": "code",
   "execution_count": null,
   "id": "fd5a761b",
   "metadata": {},
   "outputs": [],
   "source": [
    "claveCaesar = argumentos.clave"
   ]
  },
  {
   "cell_type": "markdown",
   "id": "f9c86caf",
   "metadata": {},
   "source": [
    "### Combinación algoritmo Caesar y compresión"
   ]
  },
  {
   "cell_type": "markdown",
   "id": "92f27533",
   "metadata": {},
   "source": [
    "A la hora de realizar esta parte de la práctica se nos propone unir el algoritmo Caesar con la posibilidad de comprimir el archivo encriptado, en este caso mediante el módulo [Zipfile](https://docs.python.org/es/3.8/library/zipfile.html), podremos trabajar con ficheros comprimidos. Ya sea que queramos descomprimirlos o crearlos.\n",
    "\n",
    "Para ello lo primero que tendremos que hacer será importar los módulos correspondientes, y a partir de ello ya podremos ir trabajando poco a poco. "
   ]
  },
  {
   "cell_type": "markdown",
   "id": "6ef010d0",
   "metadata": {},
   "source": [
    "#### Encriptación Caesar + Compresión"
   ]
  },
  {
   "cell_type": "code",
   "execution_count": null,
   "id": "0d96a690",
   "metadata": {},
   "outputs": [],
   "source": [
    "import string\n",
    "import zipfile\n",
    "from os import remove #Este para poder eliminar ficheros temporales"
   ]
  },
  {
   "cell_type": "markdown",
   "id": "fc3c058c",
   "metadata": {},
   "source": [
    "Una vez importados los módulos que necesitamos utilizaremos muchos aspectos ya vistos antes. Como por ejemplo las funciones de desplazamiento y el tratamiento de argumentos.\n",
    "\n",
    "El trozo de código necesario para comprimir el fichero encriptado sería el siguiente:"
   ]
  },
  {
   "cell_type": "code",
   "execution_count": null,
   "id": "dfc02504",
   "metadata": {},
   "outputs": [],
   "source": [
    "nombreFicheroEncriptar=\"hola.txt\""
   ]
  },
  {
   "cell_type": "code",
   "execution_count": null,
   "id": "488a4ca4",
   "metadata": {},
   "outputs": [],
   "source": [
    "nombreFicheroDestino=\"hola.enc\"\n",
    "\n",
    "listaCaracteres = list(cadenaAlfabeto)\n",
    "claveCaesar = 3 #Si se desea modificar la clave tocar esta variable \n",
    "listaCaracteres = desplazarlistaDerecha(listaCaracteres,claveCaesar)\n",
    "\n",
    "ficheroPlano = open(nombreFicheroEncriptar, 'r')\n",
    "ficheroEncriptado = open(nombreFicheroDestino, 'w')\n",
    "cadenaEncriptar = \"\".join(listaCaracteres)\n",
    "try:\n",
    "    # Procesamiento del fichero\n",
    "    for linea in ficheroPlano:\n",
    "        trantab = linea.maketrans(cadenaAlfabeto, cadenaEncriptar)\n",
    "        lineaEncriptada = linea.translate(trantab)\n",
    "        ficheroEncriptado.write(lineaEncriptada)\n",
    "        \n",
    "finally:\n",
    "    ficheroPlano.close()\n",
    "    ficheroEncriptado.close()"
   ]
  },
  {
   "cell_type": "code",
   "execution_count": null,
   "id": "992bf6eb",
   "metadata": {},
   "outputs": [],
   "source": [
    "nombreFicheroZip = nombreFicheroEncriptar[:nombreFicheroEncriptar.find('.')] + \".zip\"\n",
    "try:\n",
    "    with zipfile.ZipFile(nombreFicheroZip, 'w') as myzip:\n",
    "        myzip.write(nombreFicheroDestino)\n",
    "        remove(nombreFicheroDestino)\n",
    "finally:\n",
    "    myzip.close()"
   ]
  },
  {
   "cell_type": "markdown",
   "id": "18e0e2f3",
   "metadata": {},
   "source": [
    "Con ello lo que haremos será crear un objeto de la clase **Zipfile**, en el caso que se pueda abrir lo que ocurrirá será agregar el fichero encriptado al fichero Zip. De esta forma una vez que se haya agregado lo que haremos será borrar el fichero encriptado dejando solo el fichero comprimido. Para eliminar el fichero encriptado utilizaremos la función **remove**. "
   ]
  },
  {
   "cell_type": "markdown",
   "id": "fce0ffcb",
   "metadata": {},
   "source": [
    "#### Descompresión + Desencriptación Caesar"
   ]
  },
  {
   "cell_type": "markdown",
   "id": "9084fceb",
   "metadata": {},
   "source": [
    "En este caso primero deberemos de descomprimir el fichero y posteriormente lo desencriptaremos como ya lo hemos hecho antes. \n",
    "\n",
    "Para descomprimir utilizaremos la función **extractall**, para extraer la totalidad de archivos del fichero .zip. La función **printdir**, únicamente la utilizaremos para ver que ficheros se encuentran en el zip. "
   ]
  },
  {
   "cell_type": "code",
   "execution_count": null,
   "id": "5a5c97c6",
   "metadata": {},
   "outputs": [],
   "source": [
    "nombreFicheroComprimido =\"hola.txt\"\n",
    "nombreFicheroZip = nombreFicheroComprimido[:nombreFicheroComprimido.find('.')] + \".zip\""
   ]
  },
  {
   "cell_type": "code",
   "execution_count": null,
   "id": "7cdb44f3",
   "metadata": {},
   "outputs": [],
   "source": [
    "try:\n",
    "    with zipfile.ZipFile(nombreFicheroZip, 'r') as zip:\n",
    "        zip.printdir()\n",
    "        zip.extractall()\n",
    "finally:\n",
    "    zip.close()"
   ]
  },
  {
   "cell_type": "markdown",
   "id": "f0f9cc32",
   "metadata": {},
   "source": [
    "Ahora una vez descomprimido, aplicaremos el algoritmo de desencriptación de Caesar. "
   ]
  },
  {
   "cell_type": "code",
   "execution_count": null,
   "id": "02bed143",
   "metadata": {},
   "outputs": [],
   "source": [
    "cadenaAlfabeto = string.ascii_letters\n",
    "\n",
    "listaCaracteres = list(cadenaAlfabeto)\n",
    "\n",
    "claveCaesar = 3 #Si se desea modificar la clave tocar esta variable la cual debera de ser la misma que la de encriptar\n",
    "listaCaracteres = desplazarlistaIzquierda(listaCaracteres,claveCaesar)\n",
    "\n",
    "cadenaEncriptar = ''.join(listaCaracteres)\n",
    "nombreFicheroDesencriptar = nombreFicheroComprimido[:nombreFicheroComprimido.find('.')] + \".enc\"\n",
    "nombreFicheroDestino = nombreFicheroDesencriptar[:nombreFicheroComprimido.find('.')] + \"Descomprimido.txt\"\n",
    "\n",
    "ficheroEncriptado = open(nombreFicheroDesencriptar, 'r')\n",
    "ficheroDesencriptado = open(nombreFicheroDestino, 'w')\n",
    "try:\n",
    "    # Procesamiento del fichero\n",
    "    for linea in ficheroEncriptado:\n",
    "        trantab = linea.maketrans(cadenaAlfabeto, cadenaEncriptar)\n",
    "        lineaDesencriptada = linea.translate(trantab)\n",
    "        ficheroDesencriptado.write(lineaDesencriptada)\n",
    "        \n",
    "finally:\n",
    "    ficheroEncriptado.close()\n",
    "    ficheroDesencriptado.close()\n",
    "    remove(nombreFicheroDesencriptar)"
   ]
  },
  {
   "cell_type": "markdown",
   "id": "c623cfa1",
   "metadata": {},
   "source": [
    "### Ataque de fuerza bruta a un texto crifado por Caesar"
   ]
  },
  {
   "cell_type": "markdown",
   "id": "38d679ee",
   "metadata": {},
   "source": [
    "En primer lugar, debemos de saber en que consiste un ataque de fuerza bruta. Un ataque de fuerza bruta es aquel intento de descifrar un texto, contraseña, mediante el método de prueba y error con la esperanza de dar con la combinación correcta finalmente."
   ]
  },
  {
   "cell_type": "markdown",
   "id": "2a054708",
   "metadata": {},
   "source": [
    "En el caso del algoritmo de César, deberemos de realizar distintos descifrados con distintas claves. Para ello realizaremos 26 diferentes combinaciones y lo mostraremos por pantalla.  \n",
    "\n",
    "El código necesario para ello podría ser el siguiente:"
   ]
  },
  {
   "cell_type": "code",
   "execution_count": null,
   "id": "324c47ed",
   "metadata": {},
   "outputs": [],
   "source": [
    "nombreficheroEncriptado = \"hola.enc\"\n",
    "try:\n",
    "    # Procesamiento del fichero\n",
    "    cadenaAlfabeto = string.ascii_letters\n",
    "\n",
    "    listaCaracteres = list(cadenaAlfabeto)\n",
    "    for i in range(len(cadenaAlfabeto)):\n",
    "        listaCaracteres = desplazarlistaIzquierda(listaCaracteres,i)\n",
    "        cadenaFuerzaBruta = ''.join(listaCaracteres)\n",
    "        ficheroEncriptado = open(nombreficheroEncriptado, 'r')\n",
    "        print('Para un valor de clave ', i + 1)\n",
    "        print('El texto desencriptado seria')\n",
    "        for linea in ficheroEncriptado:\n",
    "            trantab = linea.maketrans(cadenaAlfabeto, cadenaFuerzaBruta)\n",
    "            lineaDesEncriptada = linea.translate(trantab)\n",
    "            print(lineaDesEncriptada)\n",
    "        ficheroEncriptado.close()\n",
    "        print()\n",
    "finally:\n",
    "    print(\"Fin\")"
   ]
  },
  {
   "cell_type": "markdown",
   "id": "0565a7fe",
   "metadata": {},
   "source": [
    "De esta forma mediante un simple bucle y nuestra función de descifrar podemos fácilmente romper un cifrado Caesar. "
   ]
  },
  {
   "cell_type": "markdown",
   "id": "acb64e73",
   "metadata": {},
   "source": [
    "## Técnicas de Encriptación Mono-alfabética"
   ]
  },
  {
   "cell_type": "markdown",
   "id": "86723501",
   "metadata": {},
   "source": [
    "En esta técnica lo que se pretende es generar una cadena de sustitución para encriptar de forma aleatoria para ello utilizaremos la función **shuffle**, del módulo **random**. A la cual le pasaremos la lista de caracteres del alfabeto"
   ]
  },
  {
   "cell_type": "markdown",
   "id": "b1699c7e",
   "metadata": {},
   "source": [
    "Para todo ello deberemos de importar el módulo random."
   ]
  },
  {
   "cell_type": "code",
   "execution_count": null,
   "id": "ba07e604",
   "metadata": {},
   "outputs": [],
   "source": [
    "import random\n",
    "listaCaracteres = list(cadenaAlfabeto)\n",
    "random.shuffle(listaCaracteres)\n",
    "cadenaEncriptar = ''.join(listaCaracteres)\n",
    "print (f'{cadenaAlfabeto=}')\n",
    "print (f\"{cadenaEncriptar=}\")\n"
   ]
  },
  {
   "cell_type": "markdown",
   "id": "e2b562d3",
   "metadata": {},
   "source": [
    "### Encriptación Mono-alfabética"
   ]
  },
  {
   "cell_type": "markdown",
   "id": "dc40fd19",
   "metadata": {},
   "source": [
    "Posteriormente ya podremos recorrer el fichero que se desea encriptar y realizar las traducciones oportunas. En primer lugar deberemos de introducir en el fichero encriptado la cadena de encriptación para poder realizar luego el proceso de desencriptación mediante ella.\n",
    "\n",
    "Esto lo podemos ver en el siguiente fragmento:"
   ]
  },
  {
   "cell_type": "code",
   "execution_count": null,
   "id": "9e8b9223",
   "metadata": {},
   "outputs": [],
   "source": [
    "nombreFicheroEncriptar= \"quijote.txt\"\n",
    "nombreFicheroSalida = \"quijote.enc\"\n",
    "ficheroPlano = open(nombreFicheroEncriptar, 'r')\n",
    "ficheroEncriptado = open(nombreFicheroSalida, 'w')\n",
    "try:\n",
    "    # Procesamiento del fichero\n",
    "    ficheroEncriptado.write(cadenaEncriptar)\n",
    "    ficheroEncriptado.write(\"\\n\")\n",
    "    for linea in ficheroPlano:\n",
    "        trantab = linea.maketrans(cadenaAlfabeto, cadenaEncriptar)\n",
    "        lineaEncriptada = linea.translate(trantab)\n",
    "        ficheroEncriptado.write(lineaEncriptada)\n",
    "            \n",
    "finally:\n",
    "    ficheroPlano.close()\n",
    "    ficheroEncriptado.close()"
   ]
  },
  {
   "cell_type": "markdown",
   "id": "eb2c0f43",
   "metadata": {},
   "source": [
    "### Desencriptación Mono-alfabética"
   ]
  },
  {
   "cell_type": "markdown",
   "id": "d447c673",
   "metadata": {},
   "source": [
    "Para realizar el desencriptado recorreremos el fichero, y tendremos que tratar la primera línea leída de forma diferente ya que ella será nuestra clave de desencriptación."
   ]
  },
  {
   "cell_type": "code",
   "execution_count": null,
   "id": "a19fe9b2",
   "metadata": {},
   "outputs": [],
   "source": [
    "nombreFicheroDesencriptar = \"monoAlfHola.enc\"\n",
    "nombreFicheroSalida = \"holaMonoAlfDesencriptado.txt\"\n",
    "ficheroEncriptado = open(nombreFicheroDesencriptar, 'r')\n",
    "ficheroDesencriptado = open(nombreFicheroSalida, 'w')\n",
    "try:\n",
    "    # Procesamiento del fichero\n",
    "    primeraLinea = True\n",
    "    cadenaDesencriptar = \"\"\n",
    "    for linea in ficheroEncriptado:\n",
    "        if primeraLinea:\n",
    "            cadenaDesencriptar = linea.strip(\"\\n\") \n",
    "            primeraLinea= not(primeraLinea)\n",
    "        else:\n",
    "            trantab = linea.maketrans(cadenaDesencriptar, cadenaAlfabeto)\n",
    "            lineaEncriptada = linea.translate(trantab)\n",
    "            ficheroDesencriptado.write(lineaEncriptada)\n",
    "            \n",
    "finally:\n",
    "    ficheroEncriptado.close()\n",
    "    ficheroDesencriptado.close()"
   ]
  },
  {
   "cell_type": "markdown",
   "id": "5463a311",
   "metadata": {},
   "source": [
    "Como podemos ver lo primero que hacemos es abrir los ficheros, leemos cada línea del fichero y en el caso que sea la primera línea, esta será nuestra clave una vez que le quitemos el **\\n**. Posteriormente desencriptaremos mediante la función maketrans y translate como ya hemos explicado anteriormente."
   ]
  },
  {
   "cell_type": "markdown",
   "id": "07c25d66",
   "metadata": {},
   "source": [
    "### Ataque de fuerza bruta mediante análisis de frecuencias"
   ]
  },
  {
   "cell_type": "markdown",
   "id": "8b5e7182",
   "metadata": {},
   "source": [
    "En este caso, para realizar el ataque lo que deberemos de realizar será en primer lugar calcular las frecuencias de aparición de cada una de las letras del alfabeto, ya que como sabemos los algoritmos de encriptación que se basan en un cambio simple, provocará que las frecuencias de las letras sean las mismas, la única diferencia será que no corresponderán a sus caracteres reales.\n",
    "\n",
    "Por ello, lo que deberemos de saber será las frecuencias relativas de nuestro texto. Esto lo podemos realizar mediante este pequeño fragmento de código."
   ]
  },
  {
   "cell_type": "code",
   "execution_count": null,
   "id": "92918c84",
   "metadata": {},
   "outputs": [],
   "source": [
    "mapa_frecuencias = {}\n",
    "nombreFicheroEncriptado = \"quijote.enc\"\n",
    "fichero = open(nombreFicheroEncriptado, 'r')\n",
    "try:\n",
    "    # Procesamiento del fichero\n",
    "        \n",
    "    for linea in fichero:\n",
    "        for caracter in linea:\n",
    "            if caracter in mapa_frecuencias:\n",
    "                mapa_frecuencias[caracter] = mapa_frecuencias[caracter] + 1  \n",
    "            else:\n",
    "                mapa_frecuencias[caracter] = 1\n",
    "    \n",
    "finally:\n",
    "    fichero.close()"
   ]
  },
  {
   "cell_type": "markdown",
   "id": "ea9d6f61",
   "metadata": {},
   "source": [
    "De esta manera hemos calculado facilmente las frecuencias de cada uno de los caracteres, si deseamos echarle un vistazo podemos:"
   ]
  },
  {
   "cell_type": "code",
   "execution_count": null,
   "id": "7a8d6507",
   "metadata": {},
   "outputs": [],
   "source": [
    "print (mapa_frecuencias)"
   ]
  },
  {
   "cell_type": "markdown",
   "id": "662915b8",
   "metadata": {},
   "source": [
    "Una vez visualizadas las frecuencias, lo que tendríamos que hacer sería poseer las frecuencias de los caracteres en el idioma a trabajar. Y una vez conocido ello podríamos realizar la sustitución.\n",
    "\n",
    "Para ello usaríamos el siguiente fragmento. "
   ]
  },
  {
   "cell_type": "code",
   "execution_count": null,
   "id": "2d8396c5",
   "metadata": {},
   "outputs": [],
   "source": [
    "ordenDeFrecuencias = \" ,E,A,O,S,R,N,I,D,L,C,T,U,M,P,B,G,V,Y,Q,H,F,Z,J,X,K,W\"\n",
    "ordenDeFrecuencias = ordenDeFrecuencias.split(sep=',')\n",
    "sumatorio = 0\n",
    "for caracter in mapa_frecuencias.keys():\n",
    "    sumatorio += mapa_frecuencias[caracter]\n",
    "\n",
    "for caracter in mapa_frecuencias.keys():\n",
    "    mapa_frecuencias[caracter]/=sumatorio\n",
    "    \n",
    "mapa_frecuenciasOrdenado = dict(sorted(mapa_frecuencias.items(),key = lambda item: item[1], reverse = True))"
   ]
  },
  {
   "cell_type": "markdown",
   "id": "4d94f145",
   "metadata": {},
   "source": [
    "Para realizar el cambio lo que haremos será recorrer el fichero y mediante la función replace realizaremos el cambio."
   ]
  },
  {
   "cell_type": "code",
   "execution_count": null,
   "id": "088d51a6",
   "metadata": {},
   "outputs": [],
   "source": [
    "nombreFicheroAtFrecuencias = \"quijote.enc\"\n",
    "nombreFicheroDestinoAtFrecuencias = \"quijoteFrecuencias.txt\""
   ]
  },
  {
   "cell_type": "code",
   "execution_count": null,
   "id": "306a847f",
   "metadata": {
    "scrolled": true
   },
   "outputs": [],
   "source": [
    "fichero = open(nombreFicheroAtFrecuencias, 'r')\n",
    "fichero2 = open(nombreFicheroDestinoAtFrecuencias,'w')\n",
    "try:\n",
    "    # Procesamiento del fichero\n",
    "        \n",
    "    for linea in fichero:\n",
    "        i = 0\n",
    "        lineaAux = linea\n",
    "        for caracter in mapa_frecuenciasOrdenado.keys():\n",
    "            if i < len(ordenDeFrecuencias):\n",
    "                linea = linea.replace(caracter, ordenDeFrecuencias[i])\n",
    "                i+=1\n",
    "            else:\n",
    "                break\n",
    "        fichero2.write(linea)\n",
    "        print(\"Linea Tratada \" + linea)\n",
    "        print(\"Linea Original \" + lineaAux)\n",
    "            \n",
    "finally:\n",
    "    fichero.close()\n",
    "    fichero2.close()"
   ]
  },
  {
   "cell_type": "markdown",
   "id": "b5afef1e",
   "metadata": {},
   "source": [
    "## Técnicas de Transposición de Caracteres"
   ]
  },
  {
   "cell_type": "markdown",
   "id": "9771b733",
   "metadata": {},
   "source": [
    "En este caso tenemos diferentes técnicas las cuales algunas que hemos visto podrían ser:"
   ]
  },
  {
   "cell_type": "markdown",
   "id": "3462369e",
   "metadata": {},
   "source": [
    "### Transposición diagonal (Rail Fence)"
   ]
  },
  {
   "cell_type": "markdown",
   "id": "a884f2b4",
   "metadata": {},
   "source": [
    "Este algoritmo se basa en la codificación del mensaje mediante una matriz la cual poseerá “r” filas, siendo r el número de raíles deseados (la clave) y “n” columnas, siendo n el tamaño del mensaje a transmitir. De esta forma lo que haremos será ir recorriendo la matriz en diagonal, introduciendo uno a uno los caracteres del mensaje. Una vez rellenada la matriz lo que hacemos es leer fila por fila juntando el contenido de las celdas. Un ejemplo visual sería el siguiente:\n",
    "\n",
    "![N|Solid](https://media.discordapp.net/attachments/886925237990617119/899267395431067688/D9Zi5mCzM4RAAAAAElFTkSuQmCC.png)"
   ]
  },
  {
   "cell_type": "markdown",
   "id": "c1432de1",
   "metadata": {},
   "source": [
    "Por ello en primer lugar para cifrar el mensaje lo que haremos será lo siguiente:"
   ]
  },
  {
   "cell_type": "code",
   "execution_count": null,
   "id": "0acf1dbd",
   "metadata": {},
   "outputs": [],
   "source": [
    "def cipherRailFence (textoPlano, railes):\n",
    "    #Creamos la matriz donde guardaremos el texto plano para posteriormente rellenarlas.\n",
    "        \n",
    "    matriz = [[\"-\" for x in range(len(textoPlano))] for y in range (railes)]    \n",
    "        \n",
    "    fila = 0\n",
    "    \n",
    "    for i in   range(len(textoPlano)):\n",
    "        matriz[fila][i] = textoPlano[i]\n",
    "        if fila >= (railes -1):\n",
    "            fila-=1\n",
    "        elif fila >= 0:\n",
    "            fila+=1\n",
    "    for i in range(railes):\n",
    "        print(\"\".join(matriz[i]))\n",
    "        \n",
    "    ct=[]\n",
    "    for i in range(railes):\n",
    "        for j in range(len(textoPlano)):\n",
    "            if matriz[i][j]!='-':\n",
    "                ct.append(matriz[i][j])\n",
    "                    \n",
    "    cipherText=\"\".join(ct)\n",
    "    print(\"Cipher Text: \",cipherText)\n",
    "    return cipherText"
   ]
  },
  {
   "cell_type": "markdown",
   "id": "089491bf",
   "metadata": {},
   "source": [
    "Con esta función podremos cifrar los mensajes fácilmente. Para descifrar lo que haremos será lo siguiente:\n"
   ]
  },
  {
   "cell_type": "code",
   "execution_count": null,
   "id": "45e5842b",
   "metadata": {},
   "outputs": [],
   "source": [
    "def transpose( m ):\n",
    "    result = [ [ 0 for y in range( len(m) ) ] for x in range( len(m[0]) ) ]\n",
    "    \n",
    "    for i in range( len(m) ):\n",
    "        for j in range( len(m[0]) ):\n",
    "            result[ j ][ i ] = m[ i ][ j ]\n",
    "    \n",
    "    return result"
   ]
  },
  {
   "cell_type": "markdown",
   "id": "ab651991",
   "metadata": {},
   "source": [
    "Para descifrar el mensaje utilizaremos la siguiente función, en la cual le pasaremos el texto plano y el número de railes."
   ]
  },
  {
   "cell_type": "code",
   "execution_count": null,
   "id": "3b9aff52",
   "metadata": {},
   "outputs": [],
   "source": [
    "def descipherRailFence (textoPlano, railes):\n",
    "        #Creamos la matriz donde guardaremos el texto plano para posteriormente rellenarlas.\n",
    "        \n",
    "        result = \"\"\n",
    "    \n",
    "        matrix = [[\"\" for x in range(len(textoPlano))] for y in range(railes)]\n",
    "    \n",
    "        idx = 0\n",
    "        increment = 1\n",
    "    \n",
    "        for selectedRow in range(0, len(matrix)):\n",
    "            row = 0\n",
    "            for col in range(0, len(matrix[ row ])):\n",
    "                if row + increment < 0 or row + increment >= len(matrix):\n",
    "                    increment = increment * -1\n",
    "    \n",
    "                if row == selectedRow:\n",
    "                    matrix[row][col] += textoPlano[idx]\n",
    "                    idx += 1\n",
    "\n",
    "                row += increment\n",
    "\n",
    "        matrix = transpose( matrix )\n",
    "        for list in matrix:\n",
    "            result += \"\".join(list)\n",
    "    \n",
    "        return result"
   ]
  },
  {
   "cell_type": "code",
   "execution_count": null,
   "id": "76e0e993",
   "metadata": {},
   "outputs": [],
   "source": [
    "mensaje = \"Hola Esto Es Una Prueba\"\n",
    "railes=2\n",
    "mensajeCifrado = cipherRailFence(mensaje,railes)\n",
    "mensajeDescifrado = descipherRailFence(mensajeCifrado,railes)\n",
    "\n",
    "print (f\"{mensajeDescifrado=}\")"
   ]
  },
  {
   "cell_type": "markdown",
   "id": "72f70df9",
   "metadata": {},
   "source": [
    "### Transposición de columna (Columna Cipher)"
   ]
  },
  {
   "cell_type": "markdown",
   "id": "32990634",
   "metadata": {},
   "source": [
    "En este caso el algoritmo se basa en el cifrado de un texto plano modificando la posición de los caracteres, siguiendo un esquema definido. En este caso lo que hacemos es a partir de una palabra obtendremos su longitud y crearemos una matriz que tenga como número de columnas esta longitud, a partir de ello rellenaremos la matriz por filas, y finalmente cogeremos el contenido del mensaje recorriendo la matriz.\n",
    "\n",
    "\n"
   ]
  },
  {
   "cell_type": "markdown",
   "id": "ae8f63c8",
   "metadata": {},
   "source": [
    "En el siguiente código se podrá ver como se ha desarrollado el cifrado y descifrado mediante la transposición de columnas.\n",
    "\n",
    "Para este caso utilizaremos la función ceil para redondear el número de celdas que necesitamos. Para ello deberemos de importar el módulo **math**."
   ]
  },
  {
   "cell_type": "code",
   "execution_count": null,
   "id": "941d70d9",
   "metadata": {},
   "outputs": [],
   "source": [
    "import math"
   ]
  },
  {
   "cell_type": "markdown",
   "id": "047efc7e",
   "metadata": {},
   "source": [
    "Una vez realizado esto podemos definir nuestras funciones para encriptar y desencriptar mediante el algoritmo de **Columna Cipher**."
   ]
  },
  {
   "cell_type": "code",
   "execution_count": null,
   "id": "94a9d302",
   "metadata": {},
   "outputs": [],
   "source": [
    "def cifrarMensajeColumnarCypher(longitud, mensaje):\n",
    "    textoCifrado = [''] * longitud\n",
    "    for columna in range (longitud):\n",
    "        i = columna\n",
    "        while i < len(mensaje):\n",
    "            textoCifrado[columna]+= mensaje [i]\n",
    "            i+=longitud\n",
    "        \n",
    "    return ''.join(textoCifrado)"
   ]
  },
  {
   "cell_type": "code",
   "execution_count": null,
   "id": "a2b3aaec",
   "metadata": {},
   "outputs": [],
   "source": [
    "def desCifrarMensajeColumnarCypher(longitud, mensaje):\n",
    "    numeroColumnas = math.ceil(len(mensaje)/longitud)\n",
    "    numeroFilas = longitud\n",
    "    numeroCeldasOcupadas = (numeroColumnas * numeroFilas) - len(mensaje)\n",
    "    textoPlano = [''] * numeroColumnas\n",
    "    columna = 0\n",
    "    fila = 0\n",
    "        \n",
    "    for caracter in mensaje:\n",
    "        textoPlano[columna] += caracter\n",
    "        columna +=1\n",
    "            \n",
    "        if (columna == numeroColumnas) or (columna == numeroColumnas - 1) and (fila >= numeroFilas - numeroCeldasOcupadas):\n",
    "            columna = 0\n",
    "            fila +=1\n",
    "                \n",
    "    return ''.join(textoPlano)"
   ]
  },
  {
   "cell_type": "markdown",
   "id": "a561505e",
   "metadata": {},
   "source": [
    "De esta forma podremos cifrar y descifrar los mensajes facilmente.\n",
    "\n",
    "Si deseamos probar esto podemos utilizar este pequeño fragmento de código:"
   ]
  },
  {
   "cell_type": "code",
   "execution_count": null,
   "id": "f3260c90",
   "metadata": {},
   "outputs": [],
   "source": [
    "clave = \"dos\"\n",
    "mensaje = input (\"Introduzca el mensaje que se desea cifrar: \")\n",
    "modo = 2\n",
    "if modo == 1:\n",
    "    mensajeTratado = cifrarMensajeColumnarCypher(len(clave),mensaje)\n",
    "elif modo == 2:\n",
    "    mensajeTratado = desCifrarMensajeColumnarCypher(len(clave),mensajeEncriptado)\n",
    "        \n",
    "print(\"Mensaje Tratado -> \" + mensajeTratado)\n",
    "mensajeEncriptado = mensajeTratado "
   ]
  }
 ],
 "metadata": {
  "kernelspec": {
   "display_name": "Python 3",
   "language": "python",
   "name": "python3"
  },
  "language_info": {
   "codemirror_mode": {
    "name": "ipython",
    "version": 3
   },
   "file_extension": ".py",
   "mimetype": "text/x-python",
   "name": "python",
   "nbconvert_exporter": "python",
   "pygments_lexer": "ipython3",
   "version": "3.8.8"
  }
 },
 "nbformat": 4,
 "nbformat_minor": 5
}
