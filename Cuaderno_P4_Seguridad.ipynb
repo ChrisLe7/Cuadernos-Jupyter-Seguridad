{
 "cells": [
  {
   "cell_type": "markdown",
   "id": "72df1983",
   "metadata": {},
   "source": [
    "# Encriptación Clásica y Conceptos básicos de encriptación\n",
    "\n",
    "## Introducción\n",
    "\n",
    "En este cuadernos **jupyter**, se pretenderá mostrar y resolver los diferentes ejercicios propuestos en la práctica 4 de Seguridad. \n",
    "\n",
    "Las técnicas de cifrado que veremos serán aquellas basadas en la sustitución y transposición de los caracteres del mensaje. Debemos de saber que a lo largo de la historia han surgido muchos algoritmos de cifrado, los cuales han servido como base a las técnicas modernas de encriptación computacional.\n"
   ]
  },
  {
   "cell_type": "markdown",
   "id": "83404eed",
   "metadata": {},
   "source": [
    "## Técnicas de Encriptación por sustitución\n",
    "\n",
    "Uno de los primeros cifrados basados en la sustitución sería el cifrado **Caesar**, el cual consistiría en el desplazamiento de la cadena del alfabeto, “k” posiciones de la posición original de la letra.Provocando así que el mensaje cifrado tenga las mismas frecuencias de repetición.\n",
    "\n",
    "El algoritmo original utilizaba una k = 3, la cual sería como podemos saber la clave secreta, para encriptar y desencriptar el mensaje.\n",
    "\n",
    "Una vez entendido el fundamento del algoritmo, en nuestro caso utilizaremos la cadena de caracteres del alfabeto ingles, como alfabeto para encriptar, siendo necesario que nuestro algoritmo desplace los caracteres de la cadena, k veces a la derecha. Una vez realizado esto, procederemos al cambio de caracteres por su correspondiente. \n",
    "\n",
    "Esto lo podemos ver gráficamente en la figura."
   ]
  },
  {
   "cell_type": "markdown",
   "id": "12fbd8f1",
   "metadata": {},
   "source": [
    "Una vez entendido de forma teoríca el funcionamiento del algoritmo **Caesar**, procederemos a realizar las diferentes líneas necesarias para implementarlo en Python. "
   ]
  },
  {
   "cell_type": "markdown",
   "id": "e1c18315",
   "metadata": {},
   "source": [
    "#### Encriptación mediante Caesar"
   ]
  },
  {
   "cell_type": "markdown",
   "id": "99acef34",
   "metadata": {},
   "source": [
    "Primero deberemos de importar los módulos necesarios para el tratamiento de argumentos y para poder trabajar con cadenas de texto y usar la función para obtener el alfabeto ingles."
   ]
  },
  {
   "cell_type": "code",
   "execution_count": null,
   "id": "49aedbc8",
   "metadata": {},
   "outputs": [],
   "source": [
    "import argparse\n",
    "import string"
   ]
  },
  {
   "cell_type": "markdown",
   "id": "99959c4a",
   "metadata": {},
   "source": [
    "Después deberemos de realizar el tratamiento de argumentos del programa, para ello utilizaremos la clase ***ArgumentParser***, proporcionada por el modulo argparse. "
   ]
  },
  {
   "cell_type": "code",
   "execution_count": null,
   "id": "205562a1",
   "metadata": {},
   "outputs": [],
   "source": [
    "parser = argparse.ArgumentParser(description='Encriptar un fichero de texto mediante la encriptacion Caesar')"
   ]
  },
  {
   "cell_type": "markdown",
   "id": "61140ab5",
   "metadata": {},
   "source": [
    "De esta forma en la variable parser tendremos un objeto de la clase, el cual mediante su constructor hemos rellenado la descripción del algoritmo. Para agregar un argumento obligatorio utilizaremos la función ***add_argument***, mediante la cual podremos. "
   ]
  },
  {
   "cell_type": "code",
   "execution_count": null,
   "id": "04a37ffd",
   "metadata": {},
   "outputs": [],
   "source": [
    "parser.add_argument(\"fileIn\", help=\"Fichero que se desea encriptar\", type=str)"
   ]
  },
  {
   "cell_type": "markdown",
   "id": "2873ffd9",
   "metadata": {},
   "source": [
    "Si deseamos agregar a nuestro programa un argumento opcional, podemos utilizar la misma función indicandole "
   ]
  },
  {
   "cell_type": "code",
   "execution_count": null,
   "id": "5a1060a3",
   "metadata": {},
   "outputs": [],
   "source": [
    "parser.add_argument('-o', dest = \"fileOut\", type=str, metavar='fileOut', help='Especifica el fichero de Salida')"
   ]
  },
  {
   "cell_type": "markdown",
   "id": "a542e431",
   "metadata": {},
   "source": [
    "Una vez tengamos todos los argumentos deseados deberemos de parsear los argumentos. Para ello utilizaremos la función **parse_args**, la cual lo que hara será parsear los diferentes argumentos que se le pasen al script a la hora de ejecutarlo."
   ]
  },
  {
   "cell_type": "code",
   "execution_count": null,
   "id": "7bc4b3c2",
   "metadata": {},
   "outputs": [],
   "source": [
    "argumentos = parser.parse_args()"
   ]
  },
  {
   "cell_type": "markdown",
   "id": "80dfef52",
   "metadata": {},
   "source": [
    "Una vez ya parseados los argumentos, tendremos acceso a ellos a través de la variable argumentos, utilizados el \".\" seguido del nombre del argumento especificado. Un ejemplo de acceso sería el siguiente."
   ]
  },
  {
   "cell_type": "code",
   "execution_count": null,
   "id": "6ff6c54b",
   "metadata": {},
   "outputs": [],
   "source": [
    "nombreFicheroEncriptar = argumentos.fileIn"
   ]
  },
  {
   "cell_type": "markdown",
   "id": "439655f0",
   "metadata": {},
   "source": [
    "Un aspecto muy importante a tener en cuenta es que los argumentos opcionales en el caso que no hayan sido suministrados, deberemos de realizar un control de errores ya que nos devuelve **None**, en el caso que accedamos al argumento sin haber sido suministrado. \n",
    "\n",
    "Por ello deberiamos de realizar la siguiente comprobación."
   ]
  },
  {
   "cell_type": "markdown",
   "id": "7f610f9e",
   "metadata": {},
   "source": [
    "En caso que no sea suministrado el nombre lo que haremos sera utilizar el mismo nombre que el de origen con la extensión bin."
   ]
  },
  {
   "cell_type": "code",
   "execution_count": null,
   "id": "bda77b56",
   "metadata": {},
   "outputs": [],
   "source": [
    "nombreFicheroDestino = argumentos.fileOut\n",
    "if nombreFicheroDestino is None:\n",
    "    nombreFicheroDestino = nombreFicheroEncriptar[:nombreFicheroEncriptar.find('.')]\n",
    "    nombreFicheroDestino = nombreFicheroDestino + \".enc\""
   ]
  },
  {
   "cell_type": "markdown",
   "id": "9e956269",
   "metadata": {},
   "source": [
    "Tras haber leido los argumentos y comprobado sus contenidos, procedemos a coger el alfabeto inglés para trabajar con el algoritmo **Caesar**. Para ello utilizaremos la clase *string*, la cual mediante **ascii_letters**, obtendremos el conjunto de letras permitidas."
   ]
  },
  {
   "cell_type": "code",
   "execution_count": null,
   "id": "17b230e9",
   "metadata": {},
   "outputs": [],
   "source": [
    "cadenaAlfabeto = string.ascii_letters\n",
    "print (cadenaAlfabeto)"
   ]
  },
  {
   "cell_type": "markdown",
   "id": "965aba76",
   "metadata": {},
   "source": [
    "Como podemos observar, en la ejecución anterior, cadenaAlfabeto posee todas las letras del alfabeto minúsculas y mayusculas juntas. Si no desearamos utilizar todas las letras sino solo las minúsculas podemos utilizar ***ascii_lowercase*** para obtener las minúsculas o ***ascii_uppercase*** para las mayusculas.\n",
    "\n",
    "\n",
    "\n"
   ]
  },
  {
   "cell_type": "code",
   "execution_count": null,
   "id": "6191cab6",
   "metadata": {},
   "outputs": [],
   "source": [
    "cadenaAlfabeto = string.ascii_lowercase\n",
    "print (cadenaAlfabeto)"
   ]
  },
  {
   "cell_type": "code",
   "execution_count": null,
   "id": "0036d6ad",
   "metadata": {},
   "outputs": [],
   "source": [
    "cadenaAlfabeto = string.ascii_uppercase\n",
    "print (cadenaAlfabeto)"
   ]
  },
  {
   "cell_type": "markdown",
   "id": "ec57df6c",
   "metadata": {},
   "source": [
    "Una vez obtenido el alfabeto lo que haremos será generar una lista con cada uno de los caracteres y posteriormente desplazar los elementos de la lista \"k\" posiciones. Para ello en nuestro caso para facilitarnos un poco el trabajo utilizaremos la función *desplazarlista* creada por nosotros la cual se le pasara la lista a modificar y sus desplazamientos."
   ]
  },
  {
   "cell_type": "code",
   "execution_count": null,
   "id": "eeeb89d1",
   "metadata": {},
   "outputs": [],
   "source": [
    "def desplazarlista(lista, desplazamiento=0):\n",
    "    longitoLista = len(lista)\n",
    "    for i, elemento in enumerate(lista[:]):\n",
    "        lista[(i + desplazamiento) % longitoLista] = elemento\n",
    "    return lista\n"
   ]
  },
  {
   "cell_type": "markdown",
   "id": "7cba94bf",
   "metadata": {},
   "source": [
    "Como podemos ver en la función lo que hacemos es realizar un bucle el cual recorrera la lista, para ello utilizaremos la función enumerate la cual nos proporcionar una tupla de dos elementos, formada por el indice de la iteracción actual junto con el elemento de la lista en la posición que nos encontramos. De esta forma podremos calcular realizar los desplazamientos de los caracteres.\n"
   ]
  },
  {
   "cell_type": "code",
   "execution_count": null,
   "id": "db2cdc07",
   "metadata": {},
   "outputs": [],
   "source": [
    "listaCaracteres = list(cadenaAlfabeto)\n",
    "\n",
    "claveCaesar = 3\n",
    "listaCaracteres = desplazarlista(listaCaracteres,claveCaesar)"
   ]
  },
  {
   "cell_type": "markdown",
   "id": "fd7f0c17",
   "metadata": {},
   "source": [
    "Una vez realizado esto ya podemos proceder a abrir el fichero que deseamos encriptar y recorrerlo realizando los cambios. Para realizar los cambios utilizaremos la función maketrans, la cual nos devuelve un mapeo de caracteres, relacionando los caracteres del alfabeto a la cadenaDesplazada.\n",
    "\n",
    "De esta forma podremos despues realizar una traducción de la linea del fichero usando este mapeo, generando así nuestra cadenaEncriptada mediante **Caesar**.\n",
    "\n",
    "Y finalmente escribimos en el ficheroEncriptado el resultado."
   ]
  },
  {
   "cell_type": "code",
   "execution_count": null,
   "id": "d68aff58",
   "metadata": {},
   "outputs": [],
   "source": [
    "ficheroPlano = open(argumentos.fileIn, 'r')\n",
    "ficheroEncriptado = open(argumentos.fileOut, 'w')\n",
    "try:\n",
    "    # Procesamiento del fichero\n",
    "    for linea in ficheroPlano:\n",
    "        trantab = linea.maketrans(cadenaAlfabeto, cadenaEncriptar)\n",
    "        lineaEncriptada = linea.translate(trantab)\n",
    "        ficheroEncriptado.write(lineaEncriptada)\n",
    "        \n",
    "finally:\n",
    "    ficheroPlano.close()\n",
    "    ficheroEncriptado.close()"
   ]
  },
  {
   "cell_type": "markdown",
   "id": "0cae3f56",
   "metadata": {},
   "source": [
    "Finalmente cerramos los ficheros y ya tendriamos los ficheros encriptados."
   ]
  },
  {
   "cell_type": "markdown",
   "id": "de93b4ef",
   "metadata": {},
   "source": [
    "#### Desencriptación mediante Caesar"
   ]
  },
  {
   "cell_type": "markdown",
   "id": "3f776ea6",
   "metadata": {},
   "source": [
    "Para el caso de desencriptar utilizaremos muchos aspectos antes vistos. Como por ejemplo el tratamiento de argumentos."
   ]
  },
  {
   "cell_type": "code",
   "execution_count": null,
   "id": "c3e9eed1",
   "metadata": {},
   "outputs": [],
   "source": [
    "import argparse\n",
    "import string\n",
    "\n",
    "parser = argparse.ArgumentParser(description='Encriptar un fichero de texto mediante la encriptacion Caesar')\n",
    "\n",
    "parser.add_argument(\"fileIn\", help=\"Fichero que se desea desencriptar\", type=str)\n",
    "\n",
    "parser.add_argument('-o', dest = \"fileOut\", type=str,\tmetavar='fileOut',\n",
    "                    help='Especifica el fichero de salida')\n",
    "\n",
    "argumentos = parser.parse_args()\n",
    "\n",
    "nombreFicheroDesencriptar = argumentos.fileIn\n",
    "\n",
    "nombreFicheroDestino = argumentos.fileOut\n",
    "if nombreFicheroDestino is None:\n",
    "    nombreFicheroDestino = nombreFicheroDesencriptar[:nombreFicheroDesencriptar.find('.')]\n",
    "    nombreFicheroDestino = nombreFicheroDestino + \".txt\"\n",
    "    \n",
    "def desplazarlistaIzquierda(lista, desplazamiento=0):\n",
    "    longitoLista = len(lista)\n",
    "    for i, elemento in enumerate(lista[:]):\n",
    "        lista[(i - desplazamiento) % longitoLista] = elemento\n",
    "    return lista\n"
   ]
  },
  {
   "cell_type": "code",
   "execution_count": null,
   "id": "e7a77c18",
   "metadata": {},
   "outputs": [],
   "source": [
    "cadenaAlfabeto = string.ascii_letters\n",
    "\n",
    "listaCaracteres = list(cadenaAlfabeto)\n",
    "\n",
    "claveCaesar = 3\n",
    "listaCaracteres = desplazarlista(listaCaracteres,claveCaesar)\n",
    "\n",
    "\n",
    "cadenaEncriptar = ''.join(listaCaracteres)\n",
    "\n",
    "ficheroEncriptado = open(nombreFicheroDesencriptar, 'r')\n",
    "ficheroDesencriptado = open(nombreFicheroDestino, 'w')\n",
    "try:\n",
    "    # Procesamiento del fichero\n",
    "    for linea in ficheroEncriptado:\n",
    "        trantab = linea.maketrans(cadenaAlfabeto, cadenaEncriptar)\n",
    "        lineaDesencriptada = linea.translate(trantab)\n",
    "        ficheroDesencriptado.write(lineaDesencriptada)\n",
    "        \n",
    "finally:\n",
    "    ficheroEncriptado.close()\n",
    "    ficheroDesencriptado.close()\n"
   ]
  },
  {
   "cell_type": "markdown",
   "id": "ee175c14",
   "metadata": {},
   "source": [
    "Si deseamos realizar que estos mismos algoritmos permitan varian la clave de desplazamiento, debemos de agregar este argumento. "
   ]
  },
  {
   "cell_type": "code",
   "execution_count": null,
   "id": "124ac322",
   "metadata": {},
   "outputs": [],
   "source": [
    "parser.add_argument(\"clave\", help=\"Desplazamiento para la encriptacion Caesar\", type=int)\n",
    "argumentos = parser.parse_args()"
   ]
  },
  {
   "cell_type": "markdown",
   "id": "33d01eb6",
   "metadata": {},
   "source": [
    "Posteriormente unicamente necesitaremos coger la clave."
   ]
  },
  {
   "cell_type": "code",
   "execution_count": null,
   "id": "fd5a761b",
   "metadata": {},
   "outputs": [],
   "source": [
    "claveCaesar = argumentos.clave"
   ]
  },
  {
   "cell_type": "markdown",
   "id": "9e334a9a",
   "metadata": {},
   "source": []
  },
  {
   "cell_type": "markdown",
   "id": "f9c86caf",
   "metadata": {},
   "source": [
    "### Combinación algoritmo Caesar y compresión"
   ]
  },
  {
   "cell_type": "markdown",
   "id": "92f27533",
   "metadata": {},
   "source": [
    "En este caso necesitaremos utilizar el módulo "
   ]
  }
 ],
 "metadata": {
  "kernelspec": {
   "display_name": "Python 3",
   "language": "python",
   "name": "python3"
  },
  "language_info": {
   "codemirror_mode": {
    "name": "ipython",
    "version": 3
   },
   "file_extension": ".py",
   "mimetype": "text/x-python",
   "name": "python",
   "nbconvert_exporter": "python",
   "pygments_lexer": "ipython3",
   "version": "3.8.8"
  }
 },
 "nbformat": 4,
 "nbformat_minor": 5
}
